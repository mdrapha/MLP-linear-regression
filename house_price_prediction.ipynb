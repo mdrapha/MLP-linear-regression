{
  "cells": [
    {
      "cell_type": "markdown",
      "metadata": {
        "id": "6jdGTwfmh5wC"
      },
      "source": [
        "Dado o problema de previsão dos valores de venda de um imóvel baseado em seu tamanho teremos:\n",
        "\n",
        "$x=area$\n",
        "\n",
        "$y=price$\n",
        "\n",
        "Logo teremos a tupla $(x,y)$, que serão os dados utilizados para ajustar nossa regressão linear.\n",
        "\n",
        "Os dados a serem utilizados fazem parte de um dataset disponibilizado na plataforma Kaggle, disponível no link abaixo:\n",
        "\n",
        "https://www.kaggle.com/code/ashydv/housing-price-prediction-linear-regression"
      ]
    },
    {
      "cell_type": "markdown",
      "metadata": {
        "id": "7aqnKjcYjLpE"
      },
      "source": [
        "Importando os dados para uso das informações."
      ]
    },
    {
      "cell_type": "code",
      "execution_count": 97,
      "metadata": {
        "id": "P8UyJoovh2t3"
      },
      "outputs": [],
      "source": [
        "\n",
        "import numpy as np\n",
        "import pandas as pd\n",
        "import random\n",
        "\n",
        "import matplotlib.pyplot as plt \n",
        "import seaborn as sns"
      ]
    },
    {
      "cell_type": "code",
      "execution_count": 98,
      "metadata": {
        "id": "I8SZxXVlkBQR"
      },
      "outputs": [],
      "source": [
        "housing=pd.DataFrame(pd.read_csv(\"Housing.csv\"))"
      ]
    },
    {
      "cell_type": "code",
      "execution_count": 99,
      "metadata": {
        "colab": {
          "base_uri": "https://localhost:8080/",
          "height": 270
        },
        "id": "4emjloIJlI4y",
        "outputId": "4224a938-756a-4743-cfb3-8c19c8eef7a1"
      },
      "outputs": [
        {
          "data": {
            "text/html": [
              "<div>\n",
              "<style scoped>\n",
              "    .dataframe tbody tr th:only-of-type {\n",
              "        vertical-align: middle;\n",
              "    }\n",
              "\n",
              "    .dataframe tbody tr th {\n",
              "        vertical-align: top;\n",
              "    }\n",
              "\n",
              "    .dataframe thead th {\n",
              "        text-align: right;\n",
              "    }\n",
              "</style>\n",
              "<table border=\"1\" class=\"dataframe\">\n",
              "  <thead>\n",
              "    <tr style=\"text-align: right;\">\n",
              "      <th></th>\n",
              "      <th>price</th>\n",
              "      <th>area</th>\n",
              "      <th>bedrooms</th>\n",
              "      <th>bathrooms</th>\n",
              "      <th>stories</th>\n",
              "      <th>mainroad</th>\n",
              "      <th>guestroom</th>\n",
              "      <th>basement</th>\n",
              "      <th>hotwaterheating</th>\n",
              "      <th>airconditioning</th>\n",
              "      <th>parking</th>\n",
              "      <th>prefarea</th>\n",
              "      <th>furnishingstatus</th>\n",
              "    </tr>\n",
              "  </thead>\n",
              "  <tbody>\n",
              "    <tr>\n",
              "      <th>0</th>\n",
              "      <td>13300000</td>\n",
              "      <td>7420</td>\n",
              "      <td>4</td>\n",
              "      <td>2</td>\n",
              "      <td>3</td>\n",
              "      <td>yes</td>\n",
              "      <td>no</td>\n",
              "      <td>no</td>\n",
              "      <td>no</td>\n",
              "      <td>yes</td>\n",
              "      <td>2</td>\n",
              "      <td>yes</td>\n",
              "      <td>furnished</td>\n",
              "    </tr>\n",
              "    <tr>\n",
              "      <th>1</th>\n",
              "      <td>12250000</td>\n",
              "      <td>8960</td>\n",
              "      <td>4</td>\n",
              "      <td>4</td>\n",
              "      <td>4</td>\n",
              "      <td>yes</td>\n",
              "      <td>no</td>\n",
              "      <td>no</td>\n",
              "      <td>no</td>\n",
              "      <td>yes</td>\n",
              "      <td>3</td>\n",
              "      <td>no</td>\n",
              "      <td>furnished</td>\n",
              "    </tr>\n",
              "    <tr>\n",
              "      <th>2</th>\n",
              "      <td>12250000</td>\n",
              "      <td>9960</td>\n",
              "      <td>3</td>\n",
              "      <td>2</td>\n",
              "      <td>2</td>\n",
              "      <td>yes</td>\n",
              "      <td>no</td>\n",
              "      <td>yes</td>\n",
              "      <td>no</td>\n",
              "      <td>no</td>\n",
              "      <td>2</td>\n",
              "      <td>yes</td>\n",
              "      <td>semi-furnished</td>\n",
              "    </tr>\n",
              "    <tr>\n",
              "      <th>3</th>\n",
              "      <td>12215000</td>\n",
              "      <td>7500</td>\n",
              "      <td>4</td>\n",
              "      <td>2</td>\n",
              "      <td>2</td>\n",
              "      <td>yes</td>\n",
              "      <td>no</td>\n",
              "      <td>yes</td>\n",
              "      <td>no</td>\n",
              "      <td>yes</td>\n",
              "      <td>3</td>\n",
              "      <td>yes</td>\n",
              "      <td>furnished</td>\n",
              "    </tr>\n",
              "    <tr>\n",
              "      <th>4</th>\n",
              "      <td>11410000</td>\n",
              "      <td>7420</td>\n",
              "      <td>4</td>\n",
              "      <td>1</td>\n",
              "      <td>2</td>\n",
              "      <td>yes</td>\n",
              "      <td>yes</td>\n",
              "      <td>yes</td>\n",
              "      <td>no</td>\n",
              "      <td>yes</td>\n",
              "      <td>2</td>\n",
              "      <td>no</td>\n",
              "      <td>furnished</td>\n",
              "    </tr>\n",
              "  </tbody>\n",
              "</table>\n",
              "</div>"
            ],
            "text/plain": [
              "      price  area  bedrooms  bathrooms  stories mainroad guestroom basement  \\\n",
              "0  13300000  7420         4          2        3      yes        no       no   \n",
              "1  12250000  8960         4          4        4      yes        no       no   \n",
              "2  12250000  9960         3          2        2      yes        no      yes   \n",
              "3  12215000  7500         4          2        2      yes        no      yes   \n",
              "4  11410000  7420         4          1        2      yes       yes      yes   \n",
              "\n",
              "  hotwaterheating airconditioning  parking prefarea furnishingstatus  \n",
              "0              no             yes        2      yes        furnished  \n",
              "1              no             yes        3       no        furnished  \n",
              "2              no              no        2      yes   semi-furnished  \n",
              "3              no             yes        3      yes        furnished  \n",
              "4              no             yes        2       no        furnished  "
            ]
          },
          "execution_count": 99,
          "metadata": {},
          "output_type": "execute_result"
        }
      ],
      "source": [
        "housing.head()"
      ]
    },
    {
      "attachments": {},
      "cell_type": "markdown",
      "metadata": {},
      "source": [
        "Separando os dados em train e test"
      ]
    },
    {
      "cell_type": "code",
      "execution_count": 120,
      "metadata": {},
      "outputs": [],
      "source": [
        "#Seperando os dados em housing_train e housing_test\n",
        "\n",
        "from sklearn.model_selection import train_test_split\n",
        "\n",
        "housing_train, housing_test = train_test_split(housing, test_size=0.5, random_state=0)"
      ]
    },
    {
      "cell_type": "code",
      "execution_count": 121,
      "metadata": {
        "id": "v1tGxUGAlOVW"
      },
      "outputs": [],
      "source": [
        "X_train=housing_train[['area']]\n",
        "X_test=housing_test[['area']]"
      ]
    },
    {
      "cell_type": "code",
      "execution_count": 122,
      "metadata": {},
      "outputs": [],
      "source": [
        "y_train=housing_train[['price']]\n",
        "y_test=housing_test[['price']]"
      ]
    },
    {
      "cell_type": "code",
      "execution_count": 124,
      "metadata": {
        "colab": {
          "base_uri": "https://localhost:8080/"
        },
        "id": "l9P1bk8wm0Zi",
        "outputId": "92f864ba-4c02-4bb0-c884-9c9e42df47a5"
      },
      "outputs": [
        {
          "data": {
            "text/plain": [
              "<bound method NDFrame.head of       area\n",
              "2     9960\n",
              "221   3420\n",
              "513   4400\n",
              "146  10500\n",
              "241   3760\n",
              "..     ...\n",
              "70    4000\n",
              "277  10360\n",
              "9     5750\n",
              "359   3600\n",
              "192   6600\n",
              "\n",
              "[272 rows x 1 columns]>"
            ]
          },
          "execution_count": 124,
          "metadata": {},
          "output_type": "execute_result"
        }
      ],
      "source": [
        "X_train.head\n"
      ]
    },
    {
      "cell_type": "code",
      "execution_count": 126,
      "metadata": {},
      "outputs": [
        {
          "data": {
            "text/plain": [
              "<bound method NDFrame.head of         price\n",
              "2    12250000\n",
              "221   4767000\n",
              "513   2485000\n",
              "146   5600000\n",
              "241   4550000\n",
              "..        ...\n",
              "70    6790000\n",
              "277   4305000\n",
              "9     9800000\n",
              "359   3710000\n",
              "192   5040000\n",
              "\n",
              "[272 rows x 1 columns]>"
            ]
          },
          "execution_count": 126,
          "metadata": {},
          "output_type": "execute_result"
        }
      ],
      "source": [
        "y_train.head"
      ]
    },
    {
      "cell_type": "markdown",
      "metadata": {
        "id": "2rObIIcvm6yJ"
      },
      "source": [
        "Agora que ja separamos os parâmetros a serem utilizados, area e preço.\n",
        "Poderemos construir a regressão."
      ]
    },
    {
      "cell_type": "code",
      "execution_count": 127,
      "metadata": {
        "colab": {
          "base_uri": "https://localhost:8080/"
        },
        "id": "WrwQGLsym56J",
        "outputId": "53d97fa7-f9cc-4e1a-9bc5-eaf20aecb55d"
      },
      "outputs": [
        {
          "data": {
            "text/plain": [
              "(272, 1)"
            ]
          },
          "execution_count": 127,
          "metadata": {},
          "output_type": "execute_result"
        }
      ],
      "source": [
        "X_train.shape"
      ]
    },
    {
      "cell_type": "code",
      "execution_count": 128,
      "metadata": {},
      "outputs": [
        {
          "data": {
            "text/plain": [
              "(272, 1)"
            ]
          },
          "execution_count": 128,
          "metadata": {},
          "output_type": "execute_result"
        }
      ],
      "source": [
        "y_train.shape"
      ]
    },
    {
      "cell_type": "code",
      "execution_count": 129,
      "metadata": {
        "colab": {
          "base_uri": "https://localhost:8080/",
          "height": 166
        },
        "id": "o0uXDg7D158c",
        "outputId": "921c0a7a-6314-4c49-980a-97f75199d340"
      },
      "outputs": [],
      "source": [
        "random.seed(32)\n",
        "from numpy import linalg as linalg"
      ]
    },
    {
      "attachments": {},
      "cell_type": "markdown",
      "metadata": {},
      "source": [
        "Aplicando o Feature Scaling nos dados"
      ]
    },
    {
      "attachments": {},
      "cell_type": "markdown",
      "metadata": {},
      "source": [
        "Definindo o método da Regressão Linear"
      ]
    },
    {
      "cell_type": "code",
      "execution_count": 148,
      "metadata": {},
      "outputs": [],
      "source": [
        "class linear_regression():\n",
        "    def __init__(self, learning_rate, iterations):\n",
        "        self.learning_rate = learning_rate\n",
        "        self.iterations = iterations\n",
        "        self.weights = None\n",
        "        self.min_X = None\n",
        "        self.max_X = None\n",
        "        self.bias = None\n",
        "        self.min_y = None\n",
        "        self.max_y = None\n",
        "        \n",
        "        \n",
        "        \n",
        "    def fit(self, X, y):\n",
        "        X=np.column_stack((np.ones(len(X)), X))\n",
        "        \n",
        "        XtX=np.dot(X.T, X)\n",
        "        XtX_inv=linalg.inv(XtX)\n",
        "        XtY=np.dot(X.T, y)\n",
        "        B=np.dot(XtX_inv, XtY)\n",
        "        self.weights = B[1:]\n",
        "        self.bias = B[0]\n",
        "\n",
        "        \n",
        "    def predict(self, X):\n",
        "        X=np.column_stack((np.ones(len(X)), X))\n",
        "        y_predicted = np.dot(X, self.weights) + self.bias\n",
        "        return y_predicted   \n",
        "    \n",
        "    def cost_function(self, X, y):\n",
        "        #Seguindo a formula do MSE (Mean Squared Error)\n",
        "        y_predicted = np.dot(X, self.weights) + self.bias\n",
        "        return np.mean((y_predicted - y) ** 2)\n",
        "    \n",
        "    def feature_scaling_X_train(self, X):\n",
        "        self.min_X = np.min(X, axis=0)\n",
        "        self.max_X = np.max(X, axis=0)\n",
        "        return (X - self.min_X) / (self.max_X - self.min_X)\n",
        "    \n",
        "    def feature_scaling_y_train(self, y):\n",
        "        self.min_y = np.min(y, axis=0)\n",
        "        self.max_y = np.max(y, axis=0)\n",
        "        return (y - self.min_y) / (self.max_y - self.min_y)\n",
        "    \n",
        "    def inverse_feature_scaling_y(self, y):\n",
        "        return y * (self.max_y - self.min_y) + self.min_y\n",
        "    \n",
        "    def inverse_feature_scaling_X(self, X):\n",
        "        return X * (self.max_X - self.min_X) + self.min_X\n",
        "    \n",
        "    def feature_scaling_X_test(self, X):\n",
        "\n",
        "        return (X - self.min_X) / (self.max_X - self.min_X)\n",
        "    \n",
        "\n",
        "    def feature_scaling_y_test(self, y):\n",
        "        return (y - self.min_y) / (self.max_y - self.min_y)\n",
        "    \n",
        "#Calculando a acurácia do modelo\n",
        "    \n",
        "    def score(self, X, y):      \n",
        "        y_predicted = self.predict(X)\n",
        "        u = ((y - y_predicted) ** 2).sum()\n",
        "        v = ((y - y.mean()) ** 2).sum()\n",
        "        return 1 - u/v\n",
        "    \n",
        "    def plot_regression_line(self, X, y):\n",
        "        plt.scatter(X, y, color = \"m\", marker = \"o\", s = 30)\n",
        "        y_predicted = self.predict(X)\n",
        "        plt.plot(X, y_predicted, color = \"g\")\n",
        "        plt.xlabel('area')\n",
        "        plt.ylabel('price')\n",
        "        plt.show()\n",
        "\n",
        "                "
      ]
    },
    {
      "cell_type": "code",
      "execution_count": 131,
      "metadata": {},
      "outputs": [],
      "source": [
        "#Instanciando o modelo\n",
        "\n",
        "model = linear_regression(learning_rate=1, iterations=1000)"
      ]
    },
    {
      "cell_type": "code",
      "execution_count": 144,
      "metadata": {},
      "outputs": [
        {
          "name": "stdout",
          "output_type": "stream",
          "text": [
            "         area\n",
            "2    0.586813\n",
            "221  0.107692\n",
            "513  0.179487\n",
            "146  0.626374\n",
            "241  0.132601\n",
            "..        ...\n",
            "70   0.150183\n",
            "277  0.616117\n",
            "9    0.278388\n",
            "359  0.120879\n",
            "192  0.340659\n",
            "\n",
            "[272 rows x 1 columns]\n"
          ]
        }
      ],
      "source": [
        "#Normalizando os dados de treino\n",
        "X_train = model.feature_scaling_X_train(X_train)\n",
        "y_train = model.feature_scaling_y_train(y_train)\n",
        "print(X_train)"
      ]
    },
    {
      "cell_type": "code",
      "execution_count": 145,
      "metadata": {},
      "outputs": [],
      "source": [
        "#Treinando o modelo\n",
        "model.fit(X_train, y_train)"
      ]
    },
    {
      "cell_type": "code",
      "execution_count": 149,
      "metadata": {},
      "outputs": [
        {
          "name": "stdout",
          "output_type": "stream",
          "text": [
            "         area\n",
            "239 -0.142868\n",
            "113 -0.142868\n",
            "325 -0.142868\n",
            "66  -0.142868\n",
            "479 -0.142868\n",
            "..        ...\n",
            "494 -0.142868\n",
            "322 -0.142868\n",
            "253 -0.142868\n",
            "299 -0.142868\n",
            "463 -0.142868\n",
            "\n",
            "[273 rows x 1 columns]\n"
          ]
        }
      ],
      "source": [
        "#Normalizando os dados de teste\n",
        "X_test = model.feature_scaling_X_test(X_test)\n",
        "y_test = model.feature_scaling_y_test(y_test)\n",
        "print(X_test)\n",
        "    "
      ]
    },
    {
      "cell_type": "code",
      "execution_count": 150,
      "metadata": {},
      "outputs": [
        {
          "ename": "ValueError",
          "evalue": "shapes (273,2) and (1,1) not aligned: 2 (dim 1) != 1 (dim 0)",
          "output_type": "error",
          "traceback": [
            "\u001b[1;31m---------------------------------------------------------------------------\u001b[0m",
            "\u001b[1;31mValueError\u001b[0m                                Traceback (most recent call last)",
            "Cell \u001b[1;32mIn[150], line 2\u001b[0m\n\u001b[0;32m      1\u001b[0m \u001b[39m#Testando o modelo\u001b[39;00m\n\u001b[1;32m----> 2\u001b[0m y_predicted \u001b[39m=\u001b[39m model\u001b[39m.\u001b[39;49mpredict(X_test)\n",
            "Cell \u001b[1;32mIn[130], line 26\u001b[0m, in \u001b[0;36mlinear_regression.predict\u001b[1;34m(self, X)\u001b[0m\n\u001b[0;32m     24\u001b[0m \u001b[39mdef\u001b[39;00m \u001b[39mpredict\u001b[39m(\u001b[39mself\u001b[39m, X):\n\u001b[0;32m     25\u001b[0m     X\u001b[39m=\u001b[39mnp\u001b[39m.\u001b[39mcolumn_stack((np\u001b[39m.\u001b[39mones(\u001b[39mlen\u001b[39m(X)), X))\n\u001b[1;32m---> 26\u001b[0m     \u001b[39mreturn\u001b[39;00m np\u001b[39m.\u001b[39;49mdot(X, \u001b[39mself\u001b[39;49m\u001b[39m.\u001b[39;49mweights) \u001b[39m+\u001b[39m \u001b[39mself\u001b[39m\u001b[39m.\u001b[39mbias\n",
            "File \u001b[1;32m<__array_function__ internals>:200\u001b[0m, in \u001b[0;36mdot\u001b[1;34m(*args, **kwargs)\u001b[0m\n",
            "\u001b[1;31mValueError\u001b[0m: shapes (273,2) and (1,1) not aligned: 2 (dim 1) != 1 (dim 0)"
          ]
        }
      ],
      "source": [
        "#Testando o modelo\n",
        "y_predicted = model.predict(X_test)"
      ]
    }
  ],
  "metadata": {
    "colab": {
      "provenance": []
    },
    "kernelspec": {
      "display_name": "Python 3",
      "language": "python",
      "name": "python3"
    },
    "language_info": {
      "codemirror_mode": {
        "name": "ipython",
        "version": 3
      },
      "file_extension": ".py",
      "mimetype": "text/x-python",
      "name": "python",
      "nbconvert_exporter": "python",
      "pygments_lexer": "ipython3",
      "version": "3.10.10"
    },
    "vscode": {
      "interpreter": {
        "hash": "ef7f9adfba9a5cbb5805748ed832eeb3f944ad4048f3616d6f1e21c0adbcbc6a"
      }
    }
  },
  "nbformat": 4,
  "nbformat_minor": 0
}
