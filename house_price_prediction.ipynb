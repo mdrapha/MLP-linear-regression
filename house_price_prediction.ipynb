{
  "cells": [
    {
      "cell_type": "markdown",
      "metadata": {
        "id": "6jdGTwfmh5wC"
      },
      "source": [
        "Dado o problema de previsão dos valores de venda de um imóvel baseado em seu tamanho teremos:\n",
        "\n",
        "$x=area$\n",
        "\n",
        "$y=price$\n",
        "\n",
        "Logo teremos a tupla $(x,y)$, que serão os dados utilizados para ajustar nossa regressão linear.\n",
        "\n",
        "Os dados a serem utilizados fazem parte de um dataset disponibilizado na plataforma Kaggle, disponível no link abaixo:\n",
        "\n",
        "https://www.kaggle.com/code/ashydv/housing-price-prediction-linear-regression"
      ]
    },
    {
      "cell_type": "markdown",
      "metadata": {
        "id": "7aqnKjcYjLpE"
      },
      "source": [
        "Importando os dados para uso das informações."
      ]
    },
    {
      "cell_type": "code",
      "execution_count": 2,
      "metadata": {
        "id": "P8UyJoovh2t3"
      },
      "outputs": [],
      "source": [
        "\n",
        "\n",
        "import numpy as np\n",
        "import pandas as pd\n",
        "import random\n",
        "\n",
        "import matplotlib.pyplot as plt \n",
        "import seaborn as sns"
      ]
    },
    {
      "cell_type": "code",
      "execution_count": 5,
      "metadata": {
        "id": "I8SZxXVlkBQR"
      },
      "outputs": [],
      "source": [
        "housing=pd.DataFrame(pd.read_csv(\"Housing.csv\"))"
      ]
    },
    {
      "cell_type": "code",
      "execution_count": 6,
      "metadata": {
        "colab": {
          "base_uri": "https://localhost:8080/",
          "height": 270
        },
        "id": "4emjloIJlI4y",
        "outputId": "4224a938-756a-4743-cfb3-8c19c8eef7a1"
      },
      "outputs": [
        {
          "data": {
            "text/html": [
              "<div>\n",
              "<style scoped>\n",
              "    .dataframe tbody tr th:only-of-type {\n",
              "        vertical-align: middle;\n",
              "    }\n",
              "\n",
              "    .dataframe tbody tr th {\n",
              "        vertical-align: top;\n",
              "    }\n",
              "\n",
              "    .dataframe thead th {\n",
              "        text-align: right;\n",
              "    }\n",
              "</style>\n",
              "<table border=\"1\" class=\"dataframe\">\n",
              "  <thead>\n",
              "    <tr style=\"text-align: right;\">\n",
              "      <th></th>\n",
              "      <th>price</th>\n",
              "      <th>area</th>\n",
              "      <th>bedrooms</th>\n",
              "      <th>bathrooms</th>\n",
              "      <th>stories</th>\n",
              "      <th>mainroad</th>\n",
              "      <th>guestroom</th>\n",
              "      <th>basement</th>\n",
              "      <th>hotwaterheating</th>\n",
              "      <th>airconditioning</th>\n",
              "      <th>parking</th>\n",
              "      <th>prefarea</th>\n",
              "      <th>furnishingstatus</th>\n",
              "    </tr>\n",
              "  </thead>\n",
              "  <tbody>\n",
              "    <tr>\n",
              "      <th>0</th>\n",
              "      <td>13300000</td>\n",
              "      <td>7420</td>\n",
              "      <td>4</td>\n",
              "      <td>2</td>\n",
              "      <td>3</td>\n",
              "      <td>yes</td>\n",
              "      <td>no</td>\n",
              "      <td>no</td>\n",
              "      <td>no</td>\n",
              "      <td>yes</td>\n",
              "      <td>2</td>\n",
              "      <td>yes</td>\n",
              "      <td>furnished</td>\n",
              "    </tr>\n",
              "    <tr>\n",
              "      <th>1</th>\n",
              "      <td>12250000</td>\n",
              "      <td>8960</td>\n",
              "      <td>4</td>\n",
              "      <td>4</td>\n",
              "      <td>4</td>\n",
              "      <td>yes</td>\n",
              "      <td>no</td>\n",
              "      <td>no</td>\n",
              "      <td>no</td>\n",
              "      <td>yes</td>\n",
              "      <td>3</td>\n",
              "      <td>no</td>\n",
              "      <td>furnished</td>\n",
              "    </tr>\n",
              "    <tr>\n",
              "      <th>2</th>\n",
              "      <td>12250000</td>\n",
              "      <td>9960</td>\n",
              "      <td>3</td>\n",
              "      <td>2</td>\n",
              "      <td>2</td>\n",
              "      <td>yes</td>\n",
              "      <td>no</td>\n",
              "      <td>yes</td>\n",
              "      <td>no</td>\n",
              "      <td>no</td>\n",
              "      <td>2</td>\n",
              "      <td>yes</td>\n",
              "      <td>semi-furnished</td>\n",
              "    </tr>\n",
              "    <tr>\n",
              "      <th>3</th>\n",
              "      <td>12215000</td>\n",
              "      <td>7500</td>\n",
              "      <td>4</td>\n",
              "      <td>2</td>\n",
              "      <td>2</td>\n",
              "      <td>yes</td>\n",
              "      <td>no</td>\n",
              "      <td>yes</td>\n",
              "      <td>no</td>\n",
              "      <td>yes</td>\n",
              "      <td>3</td>\n",
              "      <td>yes</td>\n",
              "      <td>furnished</td>\n",
              "    </tr>\n",
              "    <tr>\n",
              "      <th>4</th>\n",
              "      <td>11410000</td>\n",
              "      <td>7420</td>\n",
              "      <td>4</td>\n",
              "      <td>1</td>\n",
              "      <td>2</td>\n",
              "      <td>yes</td>\n",
              "      <td>yes</td>\n",
              "      <td>yes</td>\n",
              "      <td>no</td>\n",
              "      <td>yes</td>\n",
              "      <td>2</td>\n",
              "      <td>no</td>\n",
              "      <td>furnished</td>\n",
              "    </tr>\n",
              "  </tbody>\n",
              "</table>\n",
              "</div>"
            ],
            "text/plain": [
              "      price  area  bedrooms  bathrooms  stories mainroad guestroom basement  \\\n",
              "0  13300000  7420         4          2        3      yes        no       no   \n",
              "1  12250000  8960         4          4        4      yes        no       no   \n",
              "2  12250000  9960         3          2        2      yes        no      yes   \n",
              "3  12215000  7500         4          2        2      yes        no      yes   \n",
              "4  11410000  7420         4          1        2      yes       yes      yes   \n",
              "\n",
              "  hotwaterheating airconditioning  parking prefarea furnishingstatus  \n",
              "0              no             yes        2      yes        furnished  \n",
              "1              no             yes        3       no        furnished  \n",
              "2              no              no        2      yes   semi-furnished  \n",
              "3              no             yes        3      yes        furnished  \n",
              "4              no             yes        2       no        furnished  "
            ]
          },
          "execution_count": 6,
          "metadata": {},
          "output_type": "execute_result"
        }
      ],
      "source": [
        "housing.head()"
      ]
    },
    {
      "cell_type": "markdown",
      "metadata": {
        "id": "vpXx_Jq56UHt"
      },
      "source": [
        "# Nova seção"
      ]
    },
    {
      "cell_type": "code",
      "execution_count": 8,
      "metadata": {
        "id": "v1tGxUGAlOVW"
      },
      "outputs": [],
      "source": [
        "X=housing[['area']]"
      ]
    },
    {
      "cell_type": "code",
      "execution_count": 9,
      "metadata": {},
      "outputs": [],
      "source": [
        "y=housing[['price']]"
      ]
    },
    {
      "cell_type": "code",
      "execution_count": 11,
      "metadata": {
        "colab": {
          "base_uri": "https://localhost:8080/"
        },
        "id": "l9P1bk8wm0Zi",
        "outputId": "92f864ba-4c02-4bb0-c884-9c9e42df47a5"
      },
      "outputs": [
        {
          "data": {
            "text/plain": [
              "<bound method NDFrame.head of      area\n",
              "0    7420\n",
              "1    8960\n",
              "2    9960\n",
              "3    7500\n",
              "4    7420\n",
              "..    ...\n",
              "540  3000\n",
              "541  2400\n",
              "542  3620\n",
              "543  2910\n",
              "544  3850\n",
              "\n",
              "[545 rows x 1 columns]>"
            ]
          },
          "execution_count": 11,
          "metadata": {},
          "output_type": "execute_result"
        }
      ],
      "source": [
        "X.head"
      ]
    },
    {
      "cell_type": "code",
      "execution_count": 12,
      "metadata": {},
      "outputs": [
        {
          "data": {
            "text/plain": [
              "<bound method NDFrame.head of         price\n",
              "0    13300000\n",
              "1    12250000\n",
              "2    12250000\n",
              "3    12215000\n",
              "4    11410000\n",
              "..        ...\n",
              "540   1820000\n",
              "541   1767150\n",
              "542   1750000\n",
              "543   1750000\n",
              "544   1750000\n",
              "\n",
              "[545 rows x 1 columns]>"
            ]
          },
          "execution_count": 12,
          "metadata": {},
          "output_type": "execute_result"
        }
      ],
      "source": [
        "y.head"
      ]
    },
    {
      "cell_type": "markdown",
      "metadata": {
        "id": "2rObIIcvm6yJ"
      },
      "source": [
        "Agora que ja separamos os parâmetros a serem utilizados, area e preço.\n",
        "Poderemos construir a regressão."
      ]
    },
    {
      "cell_type": "code",
      "execution_count": 13,
      "metadata": {
        "colab": {
          "base_uri": "https://localhost:8080/"
        },
        "id": "WrwQGLsym56J",
        "outputId": "53d97fa7-f9cc-4e1a-9bc5-eaf20aecb55d"
      },
      "outputs": [
        {
          "data": {
            "text/plain": [
              "(545, 1)"
            ]
          },
          "execution_count": 13,
          "metadata": {},
          "output_type": "execute_result"
        }
      ],
      "source": [
        "X.shape"
      ]
    },
    {
      "cell_type": "code",
      "execution_count": 14,
      "metadata": {},
      "outputs": [
        {
          "data": {
            "text/plain": [
              "(545, 1)"
            ]
          },
          "execution_count": 14,
          "metadata": {},
          "output_type": "execute_result"
        }
      ],
      "source": [
        "y.shape"
      ]
    },
    {
      "cell_type": "code",
      "execution_count": 15,
      "metadata": {
        "colab": {
          "base_uri": "https://localhost:8080/",
          "height": 166
        },
        "id": "o0uXDg7D158c",
        "outputId": "921c0a7a-6314-4c49-980a-97f75199d340"
      },
      "outputs": [],
      "source": [
        "random.seed(32)"
      ]
    },
    {
      "attachments": {},
      "cell_type": "markdown",
      "metadata": {},
      "source": [
        "Aplicando o Feature Scaling nos dados"
      ]
    },
    {
      "cell_type": "code",
      "execution_count": 16,
      "metadata": {
        "id": "5sMJ5KX62dvV"
      },
      "outputs": [],
      "source": [
        "import numpy as np\n",
        "#Aplicando o feature scaling para normalizar os dados de entrada (MinMaxScaler)\n",
        "\n",
        "def feature_scaling(X):\n",
        "    X_scaled = X.copy()\n",
        "    for column in X_scaled.columns:\n",
        "        X_scaled[column] = (X_scaled[column] - X_scaled[column].min()) / (X_scaled[column].max() - X_scaled[column].min())\n",
        "    return X_scaled  \n",
        "\n"
      ]
    },
    {
      "cell_type": "code",
      "execution_count": 17,
      "metadata": {
        "colab": {
          "base_uri": "https://localhost:8080/"
        },
        "id": "kwv0ucOI5fJu",
        "outputId": "d070e6d1-21ee-444d-9e61-0a28cae70948"
      },
      "outputs": [],
      "source": [
        "X_scaled = feature_scaling(X)"
      ]
    },
    {
      "attachments": {},
      "cell_type": "markdown",
      "metadata": {},
      "source": [
        "Definindo o método da Regressão Linear"
      ]
    },
    {
      "cell_type": "code",
      "execution_count": 18,
      "metadata": {},
      "outputs": [],
      "source": [
        "#Definindo a função de custo\n",
        "#Seguindo a formula: J(t0,t1) = 1/2m * sum(np.norm(h(x)-y)**2)\n",
        "\n",
        "def J(X, y, theta):\n",
        "    m = len(y)\n",
        "    J = 0\n",
        "    J = (1/(2*m)) * np.sum(np.square(X.dot(theta)-y))\n",
        "    return J"
      ]
    },
    {
      "cell_type": "code",
      "execution_count": null,
      "metadata": {},
      "outputs": [],
      "source": [
        "#Definindo a função de gradiente descendente\n",
        "#Seguindo a formula: t0 = t0 - step * 1/m * sum(h(x)-y)\n",
        "#Seguindo a formula: t1 = t1 - step * 1/m * sum((h(x)-y)*x)\n",
        "\n",
        "def gradient_descent(X, y, theta, step, iterations):\n",
        "    m = len(y)\n",
        "    J_history = np.zeros((iterations, 1))\n",
        "    for i in range(iterations):\n",
        "        theta = theta - (step/m) * X.T.dot(X.dot(theta)-y)\n",
        "        J_history[i] = J(X, y, theta)\n",
        "    return theta, J_history\n"
      ]
    },
    {
      "cell_type": "code",
      "execution_count": 19,
      "metadata": {},
      "outputs": [],
      "source": [
        "#Definindo a função de teste de predição(fit)\n",
        "\n",
        "def fit(X, y, step, iterations):\n",
        "    X = np.c_[np.ones((X.shape[0], 1)), X]\n",
        "    theta = np.zeros((X.shape[1], random.random))\n",
        "    theta, J_history = gradient_descent(X, y, theta, step, iterations)\n",
        "    return theta, J_history"
      ]
    }
  ],
  "metadata": {
    "colab": {
      "provenance": []
    },
    "kernelspec": {
      "display_name": "Python 3",
      "language": "python",
      "name": "python3"
    },
    "language_info": {
      "codemirror_mode": {
        "name": "ipython",
        "version": 3
      },
      "file_extension": ".py",
      "mimetype": "text/x-python",
      "name": "python",
      "nbconvert_exporter": "python",
      "pygments_lexer": "ipython3",
      "version": "3.10.10"
    },
    "vscode": {
      "interpreter": {
        "hash": "ef7f9adfba9a5cbb5805748ed832eeb3f944ad4048f3616d6f1e21c0adbcbc6a"
      }
    }
  },
  "nbformat": 4,
  "nbformat_minor": 0
}
